{
 "cells": [
  {
   "cell_type": "code",
   "execution_count": null,
   "id": "8d40110b",
   "metadata": {},
   "outputs": [],
   "source": [
    "import pandas as pd\n",
    "import datacleaning as dt"
   ]
  },
  {
   "cell_type": "code",
   "execution_count": 7,
   "id": "b601c06b",
   "metadata": {},
   "outputs": [],
   "source": [
    "df=pd.read_csv('Cleaned_table_part_one.csv',index_col=0)"
   ]
  },
  {
   "cell_type": "code",
   "execution_count": 6,
   "id": "5d96f941",
   "metadata": {},
   "outputs": [],
   "source": [
    "df=df.drop(columns=[\"Unnamed:0\"],errors='ignore')"
   ]
  },
  {
   "cell_type": "code",
   "execution_count": 8,
   "id": "2a61595b",
   "metadata": {},
   "outputs": [],
   "source": [
    "df=df.rename(columns={\"Drive name\":\"driver_name\"})"
   ]
  },
  {
   "cell_type": "code",
   "execution_count": 9,
   "id": "79ee8c3d",
   "metadata": {},
   "outputs": [],
   "source": [
    "df['fastestLapSpeed']=pd.to_numeric(df['fastestLapSpeed'],errors='coerce')"
   ]
  },
  {
   "cell_type": "code",
   "execution_count": 10,
   "id": "2d110d95",
   "metadata": {},
   "outputs": [],
   "source": [
    "def time_to_second(x):\n",
    "    try:\n",
    "        m,s=x.split(\":\")\n",
    "        return int(m)*60+float(s)\n",
    "    except:\n",
    "        return None\n",
    "df['fastestLapSpeed_sec']=df['fastestLapTime'].apply(time_to_second)\n"
   ]
  },
  {
   "cell_type": "code",
   "execution_count": 11,
   "id": "f9a13d0a",
   "metadata": {},
   "outputs": [],
   "source": [
    "df['country']=df['country'].str.title()"
   ]
  },
  {
   "cell_type": "code",
   "execution_count": 12,
   "id": "fa5bdb1d",
   "metadata": {},
   "outputs": [],
   "source": [
    "df['constructor_name']=df['constructor_name'].str.strip()"
   ]
  },
  {
   "cell_type": "code",
   "execution_count": null,
   "id": "024aa504",
   "metadata": {},
   "outputs": [],
   "source": [
    "df['race_id']=df['year'].astype(str)+\"_\"+df['round'].astype(str)\n",
    "df[\"is_winner\"]=df['positionOrder']==1\n",
    "df[\"points_per_lap\"] = df[\"points\"] / df[\"laprs\"]"
   ]
  },
  {
   "cell_type": "code",
   "execution_count": 14,
   "id": "f3fb805e",
   "metadata": {},
   "outputs": [],
   "source": [
    "df.to_csv(\"Cleaned_table_part_Two.csv\")"
   ]
  }
 ],
 "metadata": {
  "kernelspec": {
   "display_name": "base",
   "language": "python",
   "name": "python3"
  },
  "language_info": {
   "codemirror_mode": {
    "name": "ipython",
    "version": 3
   },
   "file_extension": ".py",
   "mimetype": "text/x-python",
   "name": "python",
   "nbconvert_exporter": "python",
   "pygments_lexer": "ipython3",
   "version": "3.12.7"
  }
 },
 "nbformat": 4,
 "nbformat_minor": 5
}
